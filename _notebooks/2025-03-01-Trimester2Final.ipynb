{
 "cells": [
  {
   "cell_type": "markdown",
   "metadata": {},
   "source": [
    "---\n",
    "layout: post\n",
    "title:  Trimester 2 Final\n",
    "description: This is the final review blog for my final this trimester\n",
    "type: issues \n",
    "comments: true\n",
    "---"
   ]
  },
  {
   "cell_type": "markdown",
   "metadata": {},
   "source": [
    "# 1. 5 Things That I Worked On This Trimester\n",
    "\n",
    "1. Worked on Team Teach for recursion\n",
    "    - Specifically did merge sort lesson\n",
    "    - Used a Figma diagram to do a live demonstration of merge sort and work through how it works\n",
    "\n",
    "2. Full Stack Game Development \n",
    "    - Specifically worked on adding new NPCs and Players, like robot, octopus, and java hat. \n",
    "    - Modified the quiz to make it look more appealing and engaging for CSSE students\n",
    "    - Worked on game in game feature (not in production for NATM), and understood more about the OOP associated with the game. \n",
    "  \n",
    "3. Personal Blog\n",
    "\n",
    "4. CSP Help\n",
    "   - Helped a CSP student Hithin in developing his project for N@TM\n",
    "   - Called numerous times and offered assistance when he didn't understand something\n",
    "\n",
    "5. N@TM!\n",
    "    - Went to N@TM to showcase my group's project, got to talk to a LOT of adults\n",
    "    - Also got to see other groups' projects and what they were up to for the past trimester"
   ]
  },
  {
   "cell_type": "markdown",
   "metadata": {},
   "source": [
    "# 2. Full Stack Feature Demo: \n"
   ]
  },
  {
   "cell_type": "markdown",
   "metadata": {},
   "source": [
    "# Feature Write Up"
   ]
  },
  {
   "cell_type": "markdown",
   "metadata": {},
   "source": [
    "# MCQ/FRQ Work: \n",
    "![CB Score](https://github.com/user-attachments/assets/1462e571-015e-49c9-93a0-1349d4847194)\n",
    "**My score on the FRQ:** 32/39\n",
    "\n",
    "Overall, I am satisfied with this score as I haven't really studied much for the AP exam yet. Although it is not that great, there is still room for improvement. \n",
    "\n",
    "### My Areas for Improvement: \n",
    "\n",
    "Arrays: \n",
    "\n",
    "\n",
    "Using Objects: \n",
    "Even these questions, I understand the gist of objects and their creation. But, I forgot some of the nitty gritty details about every single word used in object creation, and I hope that after reviewing those, I will be set for the AP exam. \n",
    "\n",
    "\n",
    "Boolean Expression and If Statements: \n",
    "For these questions, the ones with operators that ask about the conditions and when it is true or not really confuses me. I know that these should be easy, but I really need to review logic gates and how exactly the OR & AND stuff works. Hopefully this clarifies up after revision. \n",
    "\n",
    "Aditionally, although I didn't do the FRQ portion, I took a look and felt that I definitely wasn't fully prepared for it. I had a general idea of what to do, but I don't think I would be able to perform well during the actual FRQ. Some of the FRQ walkthroughs really worked well for me during team teaches, and I hope that we can do more of those in the future. In the meantime, I too will try to work through more FRQs. \n"
   ]
  }
 ],
 "metadata": {
  "language_info": {
   "name": "python"
  }
 },
 "nbformat": 4,
 "nbformat_minor": 2
}
