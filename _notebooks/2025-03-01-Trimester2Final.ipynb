{
 "cells": [
  {
   "cell_type": "markdown",
   "metadata": {},
   "source": [
    "---\n",
    "layout: post\n",
    "title:  Trimester 2 Final\n",
    "description: This is the final review blog for my final this trimester\n",
    "type: issues \n",
    "comments: true\n",
    "---"
   ]
  },
  {
   "cell_type": "markdown",
   "metadata": {},
   "source": [
    "# 1. 5 Things That I Worked On This Trimester\n",
    "\n",
    "1. Worked on Team Teach for recursion\n",
    "    - Specifically did merge sort lesson\n",
    "    - Used a Figma diagram to do a live demonstration of merge sort and work through how it works\n",
    "\n",
    "2. Full Stack Game Development \n",
    "    - Specifically worked on adding new NPCs and Players, like robot, octopus, and java hat. \n",
    "    - Modified the quiz to make it look more appealing and engaging for CSSE students\n",
    "    - Worked on game in game feature (not in production for NATM), and understood more about the OOP associated with the game. \n",
    "  \n",
    "3. Personal Blog\n",
    "\n",
    "4. CSP Help\n",
    "   - Helped a CSP student Hithin in developing his project for N@TM\n",
    "   - Called numerous times and offered assistance when he didn't understand something\n",
    "\n",
    "5. N@TM!\n",
    "    - Went to N@TM to showcase my group's project, got to talk to a LOT of adults\n",
    "    - Also got to see other groups' projects and what they were up to for the past trimester"
   ]
  },
  {
   "cell_type": "markdown",
   "metadata": {},
   "source": [
    "# 2. Full Stack Feature Demo: \n"
   ]
  },
  {
   "cell_type": "markdown",
   "metadata": {},
   "source": [
    "# Feature Write Up"
   ]
  },
  {
   "cell_type": "markdown",
   "metadata": {},
   "source": [
    "# MCQ/FRQ Work: \n"
   ]
  }
 ],
 "metadata": {
  "language_info": {
   "name": "python"
  }
 },
 "nbformat": 4,
 "nbformat_minor": 2
}
