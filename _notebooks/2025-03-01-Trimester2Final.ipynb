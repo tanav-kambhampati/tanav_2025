{
 "cells": [
  {
   "cell_type": "markdown",
   "metadata": {},
   "source": [
    "---\n",
    "layout: post\n",
    "title:  Trimester 2 Final\n",
    "description: This is the final review blog for my final this trimester\n",
    "type: issues \n",
    "comments: true\n",
    "---"
   ]
  },
  {
   "cell_type": "markdown",
   "metadata": {},
   "source": [
    "# 1. 5 Things That I Worked On This Trimester\n",
    "\n",
    "1. Worked on Team Teach for recursion\n",
    "    - Specifically did merge sort lesson\n",
    "    - Used a Figma diagram to do a live demonstration of merge sort and work through how it works\n",
    "\n",
    "2. Full Stack Game Development \n",
    "    - Specifically worked on adding new NPCs and Players, like robot, octopus, and java hat. \n",
    "    - Modified the quiz to make it look more appealing and engaging for CSSE students\n",
    "    - Worked on game in game feature (not in production for NATM), and understood more about the OOP associated with the game. \n",
    "  \n",
    "3. Personal Blog\n",
    "\n",
    "4. CSP Help\n",
    "   - Helped a CSP student Hithin in developing his project for N@TM\n",
    "   - Called numerous times and offered assistance when he didn't understand something\n",
    "   \n",
    "   ![Image](https://github.com/user-attachments/assets/c40353e3-e313-48c3-b697-5bad18d2300b)\n",
    "   ![Image](https://github.com/user-attachments/assets/41525d73-1aaa-4e0e-a079-978167d7189f)\n",
    "\n",
    "5. N@TM!\n",
    "    - Went to N@TM to showcase my group's project, got to talk to a LOT of adults\n",
    "    - Also got to see other groups' projects and what they were up to for the past trimester\n",
    "    \n",
    "    ![Image](https://github.com/user-attachments/assets/c22eca95-d5cb-4138-86c6-8db859591a6d)"
   ]
  },
  {
   "cell_type": "markdown",
   "metadata": {},
   "source": [
    "# 2. Full Stack Feature Demo: \n",
    "\n",
    "![Image](https://github.com/user-attachments/assets/fadf9157-1462-4c5c-84be-da6e64981364)\n",
    "\n",
    "![Image](https://github.com/user-attachments/assets/5ae3afbd-5f3a-4a7f-bc7c-0576b581f186)\n",
    "\n",
    "![Image](https://github.com/user-attachments/assets/b1ddf320-c421-42cd-9a6a-91f4810071a2)\n"
   ]
  },
  {
   "cell_type": "markdown",
   "metadata": {},
   "source": [
    "# 3. Feature Write Up\n",
    "\n",
    "Feature 1: \n",
    "This was a pretty basic feature, I added a robot for Jupyter Notebooks, and it is an NPC. This feature was made really easy since the NPC class was already fully defined and it was just like copying a template. However, during this feature, I also helped fix the quiz ui by making it look a little nicer. \n",
    "\n",
    "![Image](https://github.com/user-attachments/assets/f0a5f4c8-279e-4995-9eb8-c0d2dd8a1139)\n",
    "\n",
    "\n",
    "Feature 2: \n",
    "This was a little more complicated, but the overall feature was to create a meteor blaster game. We were at ease with creating the minigame, however getting the actual funcitonality was difficult. We struggled to get the keydown stuff working, and the projectil creation was also tricky. This feature is still in production and has bare functionality at the moment. I hope that this feature can shift over to trimester 3. This relates to the quiz because the initial concept was to answer questions in order to get projectiles to shoot. \n",
    "\n",
    "![Image](https://github.com/user-attachments/assets/07179351-aec3-4fce-865a-833b3734526b)"
   ]
  },
  {
   "cell_type": "markdown",
   "metadata": {},
   "source": [
    "# 4. MCQ/FRQ Work: \n",
    "![CB Score](https://github.com/user-attachments/assets/1462e571-015e-49c9-93a0-1349d4847194)\n",
    "\n",
    "**My score on the FRQ:** 32/39\n",
    "\n",
    "Overall, I am satisfied with this score as I haven't really studied much for the AP exam yet. Although it is not that great, there is still room for improvement. \n",
    "\n",
    "### My Areas for Improvement: \n",
    "\n",
    "**Arrays**: \n",
    "\n",
    "\n",
    "**Using Objects**: \n",
    "Even these questions, I understand the gist of objects and their creation. But, I forgot some of the nitty gritty details about every single word used in object creation, and I hope that after reviewing those, I will be set for the AP exam. \n",
    "\n",
    "\n",
    "**Boolean Expression and If Statements**: \n",
    "For these questions, the ones with operators that ask about the conditions and when it is true or not really confuses me. I know that these should be easy, but I really need to review logic gates and how exactly the OR & AND stuff works. Hopefully this clarifies up after revision. \n",
    "\n",
    "Aditionally, although I didn't do the FRQ portion, I took a look and felt that I definitely wasn't fully prepared for it. I had a general idea of what to do, but I don't think I would be able to perform well during the actual FRQ. Some of the FRQ walkthroughs really worked well for me during team teaches, and I hope that we can do more of those in the future. In the meantime, I too will try to work through more FRQs. \n"
   ]
  },
  {
   "cell_type": "markdown",
   "metadata": {},
   "source": [
    "# 5. Next Steps\n",
    "\n",
    "Over the past few months, I have been working on a personal project called TeluguTunes. It is a website which aims to spread piano sheet music from telugu-language songs. I arrange each of the music pieces myself, and plan on putting these on my website for people to download and play. Although this website is still in the works, I find that it strongly resonates with the stuff we do in CSA, since I took heavy inspiration from the CSA websites. Rather than hardcoding everything, I've been trying to use node.js (trying something new) along with sqlite to store the music pieces in a backend rather than hardcoding everything. \n",
    "\n",
    "![Image](https://github.com/user-attachments/assets/eacf516f-5e5c-41e7-bf9c-78ff6bff8112)\n",
    "![Image](https://github.com/user-attachments/assets/f67e420b-eecb-418d-8d31-fb2dd1719ce1)"
   ]
  }
 ],
 "metadata": {
  "language_info": {
   "name": "python"
  }
 },
 "nbformat": 4,
 "nbformat_minor": 2
}
