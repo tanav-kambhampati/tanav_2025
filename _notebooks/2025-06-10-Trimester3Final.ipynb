{
 "cells": [
  {
   "cell_type": "markdown",
   "id": "24e023c2",
   "metadata": {},
   "source": [
    "---\n",
    "layout: post\n",
    "title:  Calculator Enactment HW\n",
    "description: My homework for the calculator enactment team teach\n",
    "type: issues \n",
    "comments: true\n",
    "---"
   ]
  },
  {
   "cell_type": "markdown",
   "id": "313a837d",
   "metadata": {},
   "source": [
    "# Tanav's Skills\n",
    "\n",
    "Welcome to my final project blog! This is where I showcase my **NFTs** – not the blockchain kind, but my **\"Non-Fungible Talents\"** – the skills that make me uniquely me. I’ll also display my **Certificates**, which highlight key achievements I share with my entire coding class. Dive in and explore!\n",
    "\n",
    "---\n",
    "\n",
    "## My NFTs: Non-Fungible Talents\n",
    "\n",
    "These are the unique tools in my toolbox – skills that reflect my creativity, problem-solving, and builder mindset.\n",
    "\n",
    "### CAD (Computer-Aided Design)\n",
    "I can model real-world objects in digital 3D. Whether it's designing mechanical parts or visualizing prototypes, I’ve used CAD tools like Fusion 360 to bring ideas to life.\n",
    "\n",
    "### Woodworking\n",
    "From blueprint to build, I’ve learned to use both hand tools and machines to create physical projects. Woodworking taught me precision, patience, and how to transform raw materials into something purposeful.\n",
    "\n",
    "### Flutter App Development\n",
    "I’ve built multi-platform apps using Flutter and Dart. Whether it's responsive UIs or Firebase integration, I can go from concept to working mobile app — fast and cross-platform.\n",
    "\n",
    "---\n",
    "\n",
    "## Certificates (Skills We All Earned)\n",
    "\n",
    "These are the programming languages and technologies we've all worked hard to master as a class. They represent our shared commitment to learning and growing together.\n",
    "\n",
    "### Java\n",
    "Object-oriented programming, data structures, algorithms — I’ve developed real-world solutions and built strong foundations for future software development.\n",
    "\n",
    "### JavaScript\n",
    "Web interactivity and dynamic interfaces? Covered. From basic DOM manipulation to logic-based scripting, I can create smart and responsive sites.\n",
    "\n",
    "### 🐍 Python\n",
    "I’ve explored Python’s simplicity and power through automation, data processing, and basic machine learning. It's my go-to for quick, efficient code.\n",
    "\n",
    "---\n",
    "\n",
    "\n",
    "---\n",
    "*Blog created for my final project at [Your School Name]* 🚀\n"
   ]
  },
  {
   "cell_type": "markdown",
   "id": "b438382b",
   "metadata": {},
   "source": [
    "# My Contributions"
   ]
  },
  {
   "cell_type": "markdown",
   "id": "5452c5d2",
   "metadata": {},
   "source": [
    "# My Commits\n",
    "![Image](https://github.com/user-attachments/assets/20a086df-8e41-41b6-8c2c-77c2601229a5)\n",
    "![Image](https://github.com/user-attachments/assets/cb3c2121-8a63-44f2-b5b8-3c66cbb23fd5)"
   ]
  }
 ],
 "metadata": {
  "language_info": {
   "name": "python"
  }
 },
 "nbformat": 4,
 "nbformat_minor": 5
}
