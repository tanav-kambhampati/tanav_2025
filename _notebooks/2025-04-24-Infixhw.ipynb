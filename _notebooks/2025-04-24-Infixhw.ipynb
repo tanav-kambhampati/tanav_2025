{
 "cells": [
  {
   "cell_type": "markdown",
   "metadata": {},
   "source": [
    "---\n",
    "layout: post\n",
    "title:  Calculator Enactment HW\n",
    "description: My homework for the calculator enactment team teach\n",
    "type: issues \n",
    "comments: true\n",
    "---"
   ]
  },
  {
   "cell_type": "markdown",
   "metadata": {},
   "source": [
    "# **Popcorn Hack 1:**\n",
    "\n",
    "1. (6*3) + 4 = 22\n",
    "2. (10 + (2*8))-3 = 23\n",
    "3. (15/3)+(2*4) = 13\n",
    "4. (7+(3*2))-5 = 8\n",
    "5. (9 + 3)^2 = 144"
   ]
  },
  {
   "cell_type": "code",
   "execution_count": 4,
   "metadata": {
    "vscode": {
     "languageId": "plaintext"
    }
   },
   "outputs": [
    {
     "name": "stdout",
     "output_type": "stream",
     "text": [
      "Result 1: 96.0\n",
      "Result 2: 33.0\n",
      "Result 3: 144.0\n"
     ]
    }
   ],
   "source": [
    "import java.util.Stack;\n",
    "\n",
    "public class PrefixEvaluator {\n",
    "\n",
    "    // Evaluates a prefix expression and returns the result\n",
    "    public static double evaluatePrefix(String expression) {\n",
    "        Stack<Double> operands = new Stack<>();\n",
    "        String[] tokens = expression.trim().split(\" \");\n",
    "\n",
    "        // Process tokens from right to left\n",
    "        for (int i = tokens.length - 1; i >= 0; i--) {\n",
    "            String token = tokens[i];\n",
    "\n",
    "            if (isOperator(token)) {\n",
    "                double first = operands.pop();\n",
    "                double second = operands.pop();\n",
    "                double computed = calculate(token, first, second);\n",
    "                operands.push(computed);\n",
    "            } else {\n",
    "                operands.push(Double.parseDouble(token));\n",
    "            }\n",
    "        }\n",
    "\n",
    "        return operands.pop();\n",
    "    }\n",
    "\n",
    "    // Determines if a given string is an operator\n",
    "    private static boolean isOperator(String token) {\n",
    "        return \"+-*/^\".contains(token);\n",
    "    }\n",
    "\n",
    "    // Applies an operator to two operands\n",
    "    private static double calculate(String operator, double a, double b) {\n",
    "        switch (operator) {\n",
    "            case \"+\": return a + b;\n",
    "            case \"-\": return a - b;\n",
    "            case \"*\": return a * b;\n",
    "            case \"/\": return a / b;\n",
    "            case \"^\": return Math.pow(a, b);\n",
    "            default: throw new IllegalArgumentException(\"Unknown operator: \" + operator);\n",
    "        }\n",
    "    }\n",
    "\n",
    "    // Example usage\n",
    "    public static void main(String[] args) {\n",
    "        String expr1 = \"* + 10 2 8\";  \n",
    "        String expr2 = \"- * 7 5 2\";   \n",
    "        String expr3 = \"^ + 9 3 2\";  \n",
    "\n",
    "        System.out.println(\"Result 1: \" + evaluatePrefix(expr1));\n",
    "        System.out.println(\"Result 2: \" + evaluatePrefix(expr2));\n",
    "        System.out.println(\"Result 3: \" + evaluatePrefix(expr3));\n",
    "    }\n",
    "}\n",
    "PrefixEvaluator.main(null)\n"
   ]
  },
  {
   "cell_type": "code",
   "execution_count": null,
   "metadata": {},
   "outputs": [],
   "source": []
  }
 ],
 "metadata": {
  "kernelspec": {
   "display_name": "Java",
   "language": "java",
   "name": "java"
  },
  "language_info": {
   "codemirror_mode": "java",
   "file_extension": ".jshell",
   "mimetype": "text/x-java-source",
   "name": "Java",
   "pygments_lexer": "java",
   "version": "17.0.14+7-Ubuntu-124.04"
  }
 },
 "nbformat": 4,
 "nbformat_minor": 4
}
